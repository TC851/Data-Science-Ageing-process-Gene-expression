{
 "cells": [
  {
   "cell_type": "markdown",
   "id": "6764ea35",
   "metadata": {},
   "source": [
    "Project overview:\n",
    "This data science project aims to predict the age of individuals based on their multi-omics data. The dataset used includes gene expression data from different subtypes of cells that could represent specific biomarkers for age-related changes. The gene expressions such as RPA2, HOXC4, KLF14 and others are captured in numerical formats for different samples and provide a basis for extensive analysis and modeling approaches.\n",
    "These predictions should not only contribute to a better understanding of the relationship between gene expression and ageing processes, but also help to identify important genetic markers that could be relevant for age-related diseases."
   ]
  },
  {
   "cell_type": "code",
   "execution_count": 8,
   "id": "6ef5a7ed",
   "metadata": {},
   "outputs": [],
   "source": [
    "import pandas as pd\n",
    "\n",
    "data_path = '/Users/caner/Desktop/Data Science/AgeingprocessGeneexpression/data.csv'\n",
    "data_df = pd.read_csv(data_path)"
   ]
  },
  {
   "cell_type": "code",
   "execution_count": 9,
   "id": "d3c75255",
   "metadata": {},
   "outputs": [
    {
     "name": "stdout",
     "output_type": "stream",
     "text": [
      "<class 'pandas.core.frame.DataFrame'>\n",
      "RangeIndex: 104 entries, 0 to 103\n",
      "Data columns (total 13 columns):\n",
      " #   Column     Non-Null Count  Dtype  \n",
      "---  ------     --------------  -----  \n",
      " 0   RPA2_3     104 non-null    float64\n",
      " 1   ZYG11A_4   104 non-null    float64\n",
      " 2   F5_2       104 non-null    float64\n",
      " 3   HOXC4_1    104 non-null    float64\n",
      " 4   NKIRAS2_2  104 non-null    float64\n",
      " 5   MEIS1_1    104 non-null    float64\n",
      " 6   SAMD10_2   104 non-null    float64\n",
      " 7   GRM2_9     104 non-null    float64\n",
      " 8   TRIM59_5   104 non-null    float64\n",
      " 9   LDB2_3     104 non-null    float64\n",
      " 10  ELOVL2_6   104 non-null    float64\n",
      " 11  DDO_1      104 non-null    float64\n",
      " 12  KLF14_2    104 non-null    float64\n",
      "dtypes: float64(13)\n",
      "memory usage: 10.7 KB\n"
     ]
    }
   ],
   "source": [
    "data_df.info()"
   ]
  },
  {
   "cell_type": "code",
   "execution_count": null,
   "id": "83e6fc1d",
   "metadata": {},
   "outputs": [],
   "source": []
  }
 ],
 "metadata": {
  "kernelspec": {
   "display_name": "Python 3 (ipykernel)",
   "language": "python",
   "name": "python3"
  },
  "language_info": {
   "codemirror_mode": {
    "name": "ipython",
    "version": 3
   },
   "file_extension": ".py",
   "mimetype": "text/x-python",
   "name": "python",
   "nbconvert_exporter": "python",
   "pygments_lexer": "ipython3",
   "version": "3.9.12"
  }
 },
 "nbformat": 4,
 "nbformat_minor": 5
}
